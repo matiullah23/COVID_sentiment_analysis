{
 "cells": [
  {
   "cell_type": "code",
   "execution_count": null,
   "metadata": {},
   "outputs": [],
   "source": [
    "# import dependencies\n",
    "import GetOldTweets3 as got\n",
    "import pandas as pd\n",
    "import datetime as dt"
   ]
  },
  {
   "cell_type": "code",
   "execution_count": null,
   "metadata": {},
   "outputs": [],
   "source": [
    "# increase the width of the 'Text' column\n",
    "pd.set_option('max_colwidth', 800)"
   ]
  },
  {
   "cell_type": "code",
   "execution_count": null,
   "metadata": {},
   "outputs": [],
   "source": [
    "# We used the GetOldTweets3 library and referenced code below: https://pypi.org/project/GetOldTweets3/\n",
    "\n",
    "# create function to retrieve Twitter data using GetOldTweets3\n",
    "def get_tweets(query, state, startDate, endDate, maxTweet):            \n",
    "    tweetCriteria = got.manager.TweetCriteria().setQuerySearch(query)\\ #search query\n",
    "                                            .setSince(startDate)\\ #start date of query range\n",
    "                                            .setUntil(endDate)\\ #end date of query range\n",
    "                                            .setNear(state)\\ # geographical location of query\n",
    "                                            .setWithin(\"500mi\")\\ # radius of geographical location \n",
    "                                            .setMaxTweets(maxTweet) #maximum number of tweets pulled\n",
    "    tweet = got.manager.TweetManager.getTweets(tweetCriteria) # set above to variable\n",
    "\n",
    "    text_tweets = [[\n",
    "                   tw.text,\n",
    "                   tw.date] for tw in tweet] # store the data pulled in a list\n",
    "\n",
    "    df_state = pd.DataFrame(text_tweets, columns = ['Text', 'Date']) #convert data pulled to dataframe\n",
    "\n",
    "    return df_state"
   ]
  },
  {
   "cell_type": "code",
   "execution_count": null,
   "metadata": {},
   "outputs": [],
   "source": [
    "#The 30 days to loop through.\n",
    "start_date = 1\n",
    "end_date = 30\n",
    "\n",
    "#Change out the month that you want to loop. This is due to performance issues - we had to circumvent the connection timeouts that Twitter was enforcing by running the code below once for each month. \n",
    "monthArray = [3] #4,5,6 are the other months we used for this project\n",
    "dateArray = range(start_date, end_date, 1)\n",
    "maxTweet = 500\n",
    "yearString = str(2020)\n",
    "\n",
    "#Comment in the term you want to search.\n",
    "search_str = \"Covid\"\n",
    "#search_str = \"Covid-19\"\n",
    "#search_str = \"Lockdown\"\n",
    "#search_str = \"Lysol\"\n",
    "#search_str = \"Pandemic\"\n",
    "#search_str = \"Quarentine\"\n",
    "#search_str = \"Vaccine\"\n",
    "\n",
    "data_df = pd.DataFrame(columns = ['Text', 'Date'])\n",
    "\n",
    "# loop through each month and each date from the list collections above and run the get_tweets function defined above to pull the data\n",
    "for x in monthArray:\n",
    "    for y in dateArray:\n",
    "        # construct the start end date parameters using the month and date variables     \n",
    "        startDate = yearString + '-' + str(x) + '-' + str(y) \n",
    "        print(startDate)\n",
    "        endDate = yearString + '-' + str(x) + '-' + str(y+1)\n",
    "        print(endDate)\n",
    "        print(search_str)\n",
    "        \n",
    "        # create data_df if it doesn't exist and concat to it if it already exists\n",
    "        if data_df.empty: \n",
    "            data_df = get_tweets(search_str, 'USA', startDate, endDate, maxTweet)\n",
    "            data_df['search_term'] = search_str\n",
    "        else:\n",
    "           df = get_tweets(search_str, 'USA', startDate, endDate, maxTweet)\n",
    "           df['search_term'] = search_str\n",
    "           data_df = pd.concat([data_df, df])"
   ]
  },
  {
   "cell_type": "code",
   "execution_count": null,
   "metadata": {},
   "outputs": [],
   "source": [
    "# reformat the Date column\n",
    "data_df['Date'] = data_df['Date'].dt.strftime('%m/%d/%Y')"
   ]
  },
  {
   "cell_type": "code",
   "execution_count": null,
   "metadata": {},
   "outputs": [],
   "source": [
    "# export to CSV \n",
    "# change the file name based on search term and month of data\n",
    "data_df.to_csv(r'Lysol_June_Data.csv', index = False)"
   ]
  }
 ],
 "metadata": {
  "kernelspec": {
   "display_name": "Python 3",
   "language": "python",
   "name": "python3"
  },
  "language_info": {
   "codemirror_mode": {
    "name": "ipython",
    "version": 3
   },
   "file_extension": ".py",
   "mimetype": "text/x-python",
   "name": "python",
   "nbconvert_exporter": "python",
   "pygments_lexer": "ipython3",
   "version": "3.7.6"
  }
 },
 "nbformat": 4,
 "nbformat_minor": 4
}
